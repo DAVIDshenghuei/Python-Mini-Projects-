{
 "cells": [
  {
   "cell_type": "markdown",
   "id": "95c2496e",
   "metadata": {},
   "source": [
    "# Greedy Snake Game"
   ]
  },
  {
   "cell_type": "markdown",
   "id": "309943cd",
   "metadata": {},
   "source": [
    "Initial state: At the beginning of the game, you will see a snake consisting of two blocks across the game screen. \n",
    "\n",
    "Move Snake: The snake will automatically move in one direction.\n",
    "\n",
    "Moving Snake: The snake will automatically move in one direction, and you can change its direction by pressing the arrow keys. Each square of the snake represents one of its body parts.\n",
    "\n",
    "Eat Food: There will be red food on the screen. When the snake's head touches the food, the snake will grow by one body part and your score will increase.\n",
    "\n",
    "Avoid collisions: The snake cannot hit the edges of the screen or touch its own body. If it does, the game will end and \"YOU LOSE\" will be displayed.\n",
    "\n",
    "Continuous Challenge: The game will continue as you try to eat more food, increase your score, and challenge your own record."
   ]
  },
  {
   "cell_type": "markdown",
   "id": "d6bc8879",
   "metadata": {},
   "source": [
    "### Import tkinter module, random module\n"
   ]
  },
  {
   "cell_type": "code",
   "execution_count": null,
   "id": "4bfda40b",
   "metadata": {},
   "outputs": [],
   "source": [
    "from tkinter import *\n",
    "import random"
   ]
  },
  {
   "cell_type": "markdown",
   "id": "d37bf3df",
   "metadata": {},
   "source": [
    "### Define the width, height, speed, space size and other parameters of the game window"
   ]
  },
  {
   "cell_type": "code",
   "execution_count": null,
   "id": "e8af25a4",
   "metadata": {},
   "outputs": [],
   "source": [
    "GAME_WIDTH = 700\n",
    "GAME_HEIGHT = 700\n",
    "SPEED = 100\n",
    "SPACE_SIZE = 50\n",
    "BODY_PARTS = 2\n",
    "SNAKE_COLOR = \"#00ddff\"\n",
    "FOOD_COLOR = \"#ffff00\"\n",
    "BACKGROUND_COLOR = \"#000000\""
   ]
  },
  {
   "cell_type": "markdown",
   "id": "7679400b",
   "metadata": {},
   "source": [
    "### Define Snake class"
   ]
  },
  {
   "cell_type": "code",
   "execution_count": null,
   "id": "4a4d4d3e",
   "metadata": {},
   "outputs": [],
   "source": [
    "class Snake:\n",
    "\n",
    "     def __init__(self):\n",
    "         # Initialize the snake's body size, coordinates and squares\n",
    "         self.body_size = BODY_PARTS\n",
    "         self.coordinates = []\n",
    "         self.squares = []\n",
    "\n",
    "         #Initialize the initial coordinates of the snake\n",
    "         for i in range(0, BODY_PARTS):\n",
    "             self.coordinates.append([0, 0])\n",
    "\n",
    "         #Create the snake's square on the canvas\n",
    "         for x, y in self.coordinates:\n",
    "             square = canvas.create_rectangle(x, y, x + SPACE_SIZE, y + SPACE_SIZE, fill=SNAKE_COLOR, tag=\"snake\")\n",
    "             self.squares.append(square)"
   ]
  },
  {
   "cell_type": "markdown",
   "id": "212c9858",
   "metadata": {},
   "source": [
    "### Define Food class"
   ]
  },
  {
   "cell_type": "code",
   "execution_count": null,
   "id": "1f1b2f10",
   "metadata": {},
   "outputs": [],
   "source": [
    "class Food:\n",
    "\n",
    "     def __init__(self):\n",
    "         #Initialize the coordinates of the food\n",
    "        x = random.randint(0, (GAME_WIDTH / SPACE_SIZE)-1) * SPACE_SIZE\n",
    "        y = random.randint(0, (GAME_HEIGHT / SPACE_SIZE) - 1) * SPACE_SIZE\n",
    "\n",
    "        self.coordinates = [x, y]\n",
    "\n",
    "         #Create an ellipse of food on the canvas\n",
    "        canvas.create_oval(x, y, x + SPACE_SIZE, y + SPACE_SIZE, fill=FOOD_COLOR, tag=\"food\")"
   ]
  },
  {
   "cell_type": "markdown",
   "id": "2478861f",
   "metadata": {},
   "source": [
    "### Define the function for each round of the game"
   ]
  },
  {
   "cell_type": "code",
   "execution_count": null,
   "id": "92beb688",
   "metadata": {},
   "outputs": [],
   "source": [
    "def next_turn(snake, food):\n",
    "\n",
    "     # Get the coordinates of the snake head\n",
    "     x, y = snake.coordinates[0]\n",
    "\n",
    "     # Update the coordinates of the snake head according to the direction\n",
    "    if direction == \"up\":\n",
    "         y -= SPACE_SIZE\n",
    "    elif direction == \"down\":\n",
    "         y += SPACE_SIZE\n",
    "    elif direction == \"left\":\n",
    "         x -= SPACE_SIZE\n",
    "    elif direction == \"right\":\n",
    "         x += SPACE_SIZE\n",
    "\n",
    "     #Insert new snake head coordinates\n",
    "     snake.coordinates.insert(0, (x, y))\n",
    "    #Create a new snake head block on the canvas\n",
    "    square = canvas.create_rectangle(x, y, x + SPACE_SIZE, y + SPACE_SIZE, fill=SNAKE_COLOR)\n",
    "    snake.squares.insert(0, square)"
   ]
  },
  {
   "cell_type": "markdown",
   "id": "16e9f5db",
   "metadata": {},
   "source": [
    "### Check if food is eaten"
   ]
  },
  {
   "cell_type": "code",
   "execution_count": null,
   "id": "e3b8b158",
   "metadata": {},
   "outputs": [],
   "source": [
    "if x == food.coordinates[0] and y == food.coordinates[1]:\n",
    "        global score\n",
    "        # Update score\n",
    "        score += 1\n",
    "        label.config(text=\"Score:{}\".format(score))\n",
    "        # Delete food\n",
    "        canvas.delete(\"food\")\n",
    "        # Generate new food\n",
    "        food = Food()\n",
    "else:\n",
    "         # If no food is eaten, delete the snake tail\n",
    "        del snake.coordinates[-1]\n",
    "         canvas.delete(snake.squares[-1])\n",
    "        del snake.squares[-1]"
   ]
  },
  {
   "cell_type": "markdown",
   "id": "d1917448",
   "metadata": {},
   "source": [
    "### Check if a collision occurs"
   ]
  },
  {
   "cell_type": "code",
   "execution_count": null,
   "id": "7a5b6ca6",
   "metadata": {},
   "outputs": [],
   "source": [
    "if check_collisions(snake):\n",
    "    game_over()\n",
    "else:\n",
    "    # Execute the next round after a delay\n",
    "    window.after(SPEED, next_turn, snake, food)"
   ]
  },
  {
   "cell_type": "markdown",
   "id": "300d9f3c",
   "metadata": {},
   "source": [
    "### Define the function to change the direction"
   ]
  },
  {
   "cell_type": "code",
   "execution_count": null,
   "id": "c93bfbc6",
   "metadata": {},
   "outputs": [],
   "source": [
    "def change_direction(new_direction):\n",
    "     global direction\n",
    "     # Change direction according to keystrokes, but avoid moving in the opposite direction\n",
    "     if new_direction == 'left':\n",
    "         if direction != 'right':\n",
    "             direction = new_direction\n",
    "     elif new_direction == 'right':\n",
    "         if direction != 'left':\n",
    "             direction = new_direction\n",
    "     elif new_direction == 'up':\n",
    "         if direction != 'down':\n",
    "             direction = new_direction\n",
    "     elif new_direction == 'down':\n",
    "         if direction != 'up':\n",
    "             direction = new_direction"
   ]
  },
  {
   "cell_type": "markdown",
   "id": "6c0e4215",
   "metadata": {},
   "source": [
    "### Function to check if collision occurs"
   ]
  },
  {
   "cell_type": "code",
   "execution_count": null,
   "id": "0423400f",
   "metadata": {},
   "outputs": [],
   "source": [
    "def check_collisions(snake):\n",
    "     x, y = snake.coordinates[0]\n",
    "     # Check if it hits the game boundary\n",
    "     if x < 0 or x >= GAME_WIDTH:\n",
    "        return True\n",
    "     elif y < 0 or y >= GAME_HEIGHT:\n",
    "        return True"
   ]
  },
  {
   "cell_type": "markdown",
   "id": "261de5b5",
   "metadata": {},
   "source": [
    "### Check if it touches your own body"
   ]
  },
  {
   "cell_type": "code",
   "execution_count": null,
   "id": "026c5ecc",
   "metadata": {},
   "outputs": [],
   "source": [
    "for body_part in snake.coordinates[1:]:\n",
    "         if x == body_part[0] and y == body_part[1]:\n",
    "             return True\n",
    "\n",
    "    return False"
   ]
  },
  {
   "cell_type": "markdown",
   "id": "2a87c1fd",
   "metadata": {},
   "source": [
    "### Game end function"
   ]
  },
  {
   "cell_type": "code",
   "execution_count": null,
   "id": "98632927",
   "metadata": {},
   "outputs": [],
   "source": [
    "def game_over():\n",
    "    # Delete all elements on the canvas\n",
    "    canvas.delete(ALL)\n",
    "    # Display the text \"GAME OVER\" on the canvas\n",
    "    canvas.create_text(canvas.winfo_width()/2, canvas.winfo_height()/2,\n",
    "                        font=('consolas',70), text=\"YOU LOSE\", fill=\"red\", tag=\"gameover\")"
   ]
  },
  {
   "cell_type": "code",
   "execution_count": null,
   "id": "66740d74",
   "metadata": {},
   "outputs": [],
   "source": [
    "#Create tkinter window\n",
    "window = Tk()\n",
    "window.title(\"Snake game\")\n",
    "window.resizable(False, False)"
   ]
  },
  {
   "cell_type": "code",
   "execution_count": null,
   "id": "fc5c1f13",
   "metadata": {},
   "outputs": [],
   "source": [
    "# Initialize scores and directions\n",
    "score = 0\n",
    "direction = 'down'"
   ]
  },
  {
   "cell_type": "code",
   "execution_count": null,
   "id": "e173fa54",
   "metadata": {},
   "outputs": [],
   "source": [
    "# Add a score label to the window\n",
    "label = Label(window, text=\"Score:{}\".format(score), font=('consolas', 40))\n",
    "label.pack()"
   ]
  },
  {
   "cell_type": "code",
   "execution_count": null,
   "id": "05a447c6",
   "metadata": {},
   "outputs": [],
   "source": [
    "#Create a canvas on the window\n",
    "canvas = Canvas(window, bg=BACKGROUND_COLOR, height=GAME_HEIGHT, width=GAME_WIDTH)\n",
    "canvas.pack()"
   ]
  },
  {
   "cell_type": "code",
   "execution_count": null,
   "id": "35da7f8b",
   "metadata": {},
   "outputs": [],
   "source": [
    "# Update window\n",
    "window.update()"
   ]
  },
  {
   "cell_type": "code",
   "execution_count": null,
   "id": "352aac53",
   "metadata": {},
   "outputs": [],
   "source": [
    "# Get the width and height of the window and screen\n",
    "window_width = window.winfo_width()\n",
    "window_height = window.winfo_height()\n",
    "screen_width = window.winfo_screenwidth()\n",
    "screen_height = window.winfo_screenheight()"
   ]
  },
  {
   "cell_type": "code",
   "execution_count": null,
   "id": "55e8b40d",
   "metadata": {},
   "outputs": [],
   "source": [
    "# Set the position of the window\n",
    "x = int((screen_width/2) - (window_width/2))\n",
    "y = int((screen_height/2) - (window_height/2))\n",
    "window.geometry(f\"{window_width}x{window_height}+{x}+{y}\")"
   ]
  },
  {
   "cell_type": "code",
   "execution_count": null,
   "id": "ce437ca1",
   "metadata": {},
   "outputs": [],
   "source": [
    "#Bind key events\n",
    "window.bind('<Left>', lambda event: change_direction('left'))\n",
    "window.bind('<Right>', lambda event: change_direction('right'))\n",
    "window.bind('<Up>', lambda event: change_direction('up'))\n",
    "window.bind('<Down>', lambda event"
   ]
  },
  {
   "cell_type": "code",
   "execution_count": null,
   "id": "d8951805",
   "metadata": {},
   "outputs": [],
   "source": []
  }
 ],
 "metadata": {
  "kernelspec": {
   "display_name": "Python 3 (ipykernel)",
   "language": "python",
   "name": "python3"
  },
  "language_info": {
   "codemirror_mode": {
    "name": "ipython",
    "version": 3
   },
   "file_extension": ".py",
   "mimetype": "text/x-python",
   "name": "python",
   "nbconvert_exporter": "python",
   "pygments_lexer": "ipython3",
   "version": "3.8.13"
  }
 },
 "nbformat": 4,
 "nbformat_minor": 5
}

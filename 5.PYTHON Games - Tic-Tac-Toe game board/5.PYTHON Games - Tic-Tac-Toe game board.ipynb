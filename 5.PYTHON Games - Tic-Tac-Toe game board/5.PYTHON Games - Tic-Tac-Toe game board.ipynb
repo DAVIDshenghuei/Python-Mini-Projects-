{
 "cells": [
  {
   "cell_type": "markdown",
   "id": "4eff2ebe",
   "metadata": {},
   "source": [
    "# PYTHON Games - Tic-Tac-Toe game board"
   ]
  },
  {
   "cell_type": "code",
   "execution_count": null,
   "id": "b3bc90e1",
   "metadata": {},
   "outputs": [],
   "source": [
    "import tkinter as tk #provides a library of basic elements of GUI widgets\n",
    "from tkinter import messagebox #provides a different set of dialogues that are used to display message boxes\n",
    "import random\n"
   ]
  },
  {
   "cell_type": "markdown",
   "id": "c588f544",
   "metadata": {},
   "source": [
    "## check_winner, used to check if a specified player ('X' or 'O') has won on the Tic-Tac-Toe game board."
   ]
  },
  {
   "cell_type": "code",
   "execution_count": null,
   "id": "43b4a2ab",
   "metadata": {},
   "outputs": [],
   "source": [
    "\n",
    "def check_winner(board, player):\n",
    "    #If any of the horizontal or vertical lines are occupied by the specified player\n",
    "    for i in range(3):\n",
    "        if all(board[i][j] == player for j in range(3)) or all(board[j][i] == player for j in range(3)):\n",
    "            return True\n",
    "    #If any of the diagonals are occupied by a given player\n",
    "    if all(board[i][i] == player for i in range(3)) or all(board[i][2 - i] == player for i in range(3)):\n",
    "        return True\n",
    "    return False\n"
   ]
  },
  {
   "cell_type": "markdown",
   "id": "f5007b8b",
   "metadata": {},
   "source": [
    "## Indicates that no space exists"
   ]
  },
  {
   "cell_type": "code",
   "execution_count": null,
   "id": "49f472e6",
   "metadata": {},
   "outputs": [],
   "source": [
    "\n",
    "def is_board_full(board):\n",
    "    return all(all(cell != ' ' for cell in row) for row in board)"
   ]
  },
  {
   "cell_type": "markdown",
   "id": "ac99170e",
   "metadata": {},
   "source": [
    "## Choose the best move in tic-tac-toe game\n",
    "'minimax' is a recursive function that uses the Minimax algorithm to calculate the optimal move for the game.\n",
    "\n",
    "'board' is the current state of the game board.\n",
    "\n",
    "'depth' is the depth of the recursion, indicating the current level of the recursion.\n",
    "\n",
    "'is_maximizing' is a Boolean value indicating whether the current player is maximizing the player ('O') or minimizing the player ('X')."
   ]
  },
  {
   "cell_type": "code",
   "execution_count": null,
   "id": "8d04e9f7",
   "metadata": {},
   "outputs": [],
   "source": [
    "#These conditions are used to determine if the current game state is over.\n",
    "def minimax(board, depth, is_maximizing):\n",
    "    if check_winner(board, 'X'):\n",
    "        return -1\n",
    "    if check_winner(board, 'O'):\n",
    "        return 1\n",
    "    if is_board_full(board): #if game is full, terminate\n",
    "        return 0\n",
    "\n",
    "    if is_maximizing: #recursive approach that fills board with Os\n",
    "        max_eval = float('-inf')\n",
    "        for i in range(3):\n",
    "            for j in range(3):\n",
    "                if board[i][j] == ' ':\n",
    "                    board[i][j] = 'O'\n",
    "                    eval = minimax(board, depth + 1, False) #recursion\n",
    "                    board[i][j] = ' '\n",
    "                    max_eval = max(max_eval, eval)\n",
    "        return max_eval\n",
    "    else: #recursive approach that fills board with Xs\n",
    "        min_eval = float('inf')\n",
    "        for i in range(3):\n",
    "            for j in range(3):\n",
    "                if board[i][j] == ' ':\n",
    "                    board[i][j] = 'X'\n",
    "                    eval = minimax(board, depth + 1, True) #recursion\n",
    "                    board[i][j] = ' '\n",
    "                    min_eval = min(min_eval, eval)\n",
    "        return min_eval"
   ]
  },
  {
   "cell_type": "markdown",
   "id": "8f5a3416",
   "metadata": {},
   "source": [
    "### If the 'O' player is currently maximizing:\n",
    "\n",
    "In this case, we want the 'O' player to make an action that maximizes the valuation.\n",
    "Therefore, we set is_maximizing to True to indicate that the node is currently maximizing.\n",
    "### Maximize the evaluated value of player 'O':\n",
    "\n",
    "Initialize max_eval to negative infinity (float('-inf')) to ensure that any valid evaluation will be larger than it is.\n",
    "\n",
    "Use nested loops to traverse each space, simulating 'O' player movement.\n",
    "Then, recursion calls the minimax function, but this time with is_maximizing set to False to simulate the 'X' player's turn. During the recursion, max_eval is constantly updated to the maximum evaluation seen so far.\n",
    "\n",
    "### eval = minimax(board, depth + 1, False):\n",
    "\n",
    "The purpose of this line is to call the minimax function, which calculates the evaluation of the current state of the game tree as a recursive loop.\n",
    "\n",
    "'depth + 1' means that the depth of the passback has increased by one level, i.e. the opponent's turn is being simulated.\n",
    "\n",
    "'False' means that it is currently simulating the opponent's turn, i.e. minimizing nodes.\n",
    "\n",
    "' board[i][j] = ' ' '\n",
    "\n",
    "After the calculation of the recursion is completed, restore the state of the game board by restoring the previously simulated action (placing the 'O') to a space, in order to simulate the effect of canceling this action, which is only for evaluation purposes and not for the actual game operation.\n",
    "\n",
    "### max_eval = max(max_eval, eval):\n",
    "\n",
    "Compares the current eval value, eval, with the previous maximum eval value, max_eval, and selects the largest value.\n",
    "The reason for this is that in the Maximize node, we want to choose the action that maximizes the eval, so we need to keep the maximum value we've seen so far."
   ]
  },
  {
   "cell_type": "markdown",
   "id": "789a4e03",
   "metadata": {},
   "source": [
    "## Determines the best move for the current player and returns a tuple representing the position\n",
    "\n",
    "### minimax\n",
    "This code is based on the 'minimax' algorithm to find the optimal movement of the computer player's 'O'."
   ]
  },
  {
   "cell_type": "code",
   "execution_count": null,
   "id": "7f6a9061",
   "metadata": {},
   "outputs": [],
   "source": [
    "def best_move(board):\n",
    "    best_val = float('-inf')\n",
    "    best_move = None #The purpose of initializing 'best_move' to None is to ensure that the variable is not assigned a value before the search begins.\n",
    "\n",
    "    for i in range(3):\n",
    "        for j in range(3):\n",
    "            if board[i][j] == ' ':\n",
    "                board[i][j] = 'O'\n",
    "                move_val = minimax(board, 0, False)\n",
    "                board[i][j] = ' '\n",
    "                if move_val > best_val:\n",
    "                    best_val = move_val\n",
    "                    best_move = (i, j)\n",
    "\n",
    "    return best_move\n"
   ]
  },
  {
   "cell_type": "markdown",
   "id": "94d8709b",
   "metadata": {},
   "source": [
    "### best_move = None\n",
    "\n",
    "If you don't initialize 'best_move' to None at the beginning, then on the first space check, the value of best_move may retain the previous value, which may be the best move position from the previous round of the game. This may lead to incorrect results, as you want to re-evaluate and update the best_move at each step. Initializing best_move to None ensures that at the start of the search, best_move is a reasonably unknown value and not the result of the previous round."
   ]
  },
  {
   "cell_type": "code",
   "execution_count": null,
   "id": "8e238260",
   "metadata": {},
   "outputs": [],
   "source": [
    "\n",
    "def make_move(row, col):\n",
    "    if board[row][col] == ' ':\n",
    "        board[row][col] = 'X'\n",
    "        buttons[row][col].config(text='X')\n",
    "        if check_winner(board, 'X'):\n",
    "            messagebox.showinfo(\"Tic-Tac-Toe\", \"You win!\")\n",
    "            root.quit()\n",
    "        elif is_board_full(board):\n",
    "            messagebox.showinfo(\"Tic-Tac-Toe\", \"It's a draw!\")\n",
    "            root.quit()\n",
    "        else:\n",
    "            ai_move()\n",
    "    else:\n",
    "        messagebox.showerror(\"Error\", \"Invalid move\")"
   ]
  },
  {
   "cell_type": "code",
   "execution_count": null,
   "id": "4c529c4b",
   "metadata": {},
   "outputs": [],
   "source": [
    "#AI's turn to play\n",
    "def ai_move():\n",
    "    row, col = best_move(board)\n",
    "    board[row][col] = 'O'\n",
    "    buttons[row][col].config(text='O')\n",
    "    if check_winner(board, 'O'):\n",
    "        messagebox.showinfo(\"Tic-Tac-Toe\", \"AI wins!\")\n",
    "        root.quit()\n",
    "    elif is_board_full(board):\n",
    "        messagebox.showinfo(\"Tic-Tac-Toe\", \"It's a draw!\")\n",
    "        root.quit()\n"
   ]
  },
  {
   "cell_type": "markdown",
   "id": "9cbcb30e",
   "metadata": {},
   "source": [
    "## This code uses Python's tkinter module to implement a simple graphical user interface (GUI) version of Tic-Tac-Toe."
   ]
  },
  {
   "cell_type": "code",
   "execution_count": null,
   "id": "c2bb4198",
   "metadata": {},
   "outputs": [],
   "source": [
    "root = tk.Tk()\n",
    "root.title(\"Tic-Tac-Toe\")\n",
    "\n",
    "board = [[' ' for _ in range(3)] for _ in range(3)]\n",
    "buttons = []\n",
    "\n",
    "for i in range(3):\n",
    "    row_buttons = []\n",
    "    for j in range(3):\n",
    "        button = tk.Button(root, text=' ', font=('normal', 30), width=5, height=2, command=lambda row=i, col=j: make_move(row, col))\n",
    "        button.grid(row=i, column=j)\n",
    "        row_buttons.append(button)\n",
    "    buttons.append(row_buttons)\n",
    "\n",
    "root.mainloop()"
   ]
  },
  {
   "cell_type": "markdown",
   "id": "15161ab1",
   "metadata": {},
   "source": [
    "### Create the main window (root):\n",
    "root = tk.Tk(): Creates a Tkinter main window object, which is the main window of the GUI application.\n",
    "root.title(\"Tic-Tac-Toe\"): Sets the window title to \"Tic-Tac-Toe\".\n",
    "### Initialize the board:\n",
    "board = [[' ' for _ in range(3)] for _ in range(3)]: Create a 3x3 two-dimensional list that will be used to represent the board for Tic-Tac-Toe. Initially all squares are empty.\n",
    "Create buttons:\n",
    "\n",
    "buttons = []: Creates a list for storing button references.\n",
    "Use nested for loops to create a 3x3 matrix of buttons, with each button corresponding to a grid on the board.\n",
    "For each grid, create a tk.Button object containing the button's associated attributes:\n",
    "\n",
    "text=' ': Initially the text displayed on the button is a space.\n",
    "font=('normal', 30): Sets the text font to standard ('normal') and the font size to 30.\n",
    "width=5, height=2: Sets the width and height of the button.\n",
    "command=lambda row=i, col=j: make_move(row, col): Sets the button's click event to call the make_move function and pass the button's corresponding row and column.\n",
    "\n",
    "### Place the button in the main window (grid):\n",
    "button.grid(row=i, column=j): Places the button in the specified row and column using the grid layout manager.\n",
    "\n",
    "#### In this way, all the buttons are arranged in a 3x3 grid.\n",
    "\n",
    "### Starts the main window's event loop (root.mainloop()):\n",
    "Starting Tkinter's event loop allows the GUI to receive and process user actions and keep them running."
   ]
  },
  {
   "cell_type": "code",
   "execution_count": null,
   "id": "6d2bdc6e",
   "metadata": {},
   "outputs": [],
   "source": []
  }
 ],
 "metadata": {
  "kernelspec": {
   "display_name": "Python 3 (ipykernel)",
   "language": "python",
   "name": "python3"
  },
  "language_info": {
   "codemirror_mode": {
    "name": "ipython",
    "version": 3
   },
   "file_extension": ".py",
   "mimetype": "text/x-python",
   "name": "python",
   "nbconvert_exporter": "python",
   "pygments_lexer": "ipython3",
   "version": "3.8.13"
  }
 },
 "nbformat": 4,
 "nbformat_minor": 5
}
